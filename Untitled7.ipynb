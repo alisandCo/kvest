{
 "cells": [
  {
   "cell_type": "code",
   "execution_count": null,
   "id": "f57a8dab",
   "metadata": {},
   "outputs": [
    {
     "name": "stdout",
     "output_type": "stream",
     "text": [
      "чтобы повторить введите \"Да\", для выхода введите \"Нет\"Печеньки\n",
      "Съели печеньку\n"
     ]
    }
   ],
   "source": [
    "flag = True\n",
    "while (flag):\n",
    "    repeat = input('чтобы повторить введите \"Да\", '+ 'для выхода введите \"Нет\"')\n",
    "    if repeat =='Да':\n",
    "        print('Цикл повторяется')\n",
    "    elif repeat == 'Печеньки':\n",
    "        print('Съели печеньку')\n",
    "    else:\n",
    "        flag =False\n",
    "        print('Вышли из цикла')"
   ]
  },
  {
   "cell_type": "code",
   "execution_count": null,
   "id": "e42d4217",
   "metadata": {},
   "outputs": [],
   "source": []
  }
 ],
 "metadata": {
  "kernelspec": {
   "display_name": "Python 3",
   "language": "python",
   "name": "python3"
  },
  "language_info": {
   "codemirror_mode": {
    "name": "ipython",
    "version": 3
   },
   "file_extension": ".py",
   "mimetype": "text/x-python",
   "name": "python",
   "nbconvert_exporter": "python",
   "pygments_lexer": "ipython3",
   "version": "3.8.8"
  }
 },
 "nbformat": 4,
 "nbformat_minor": 5
}
